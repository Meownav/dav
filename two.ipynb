{
 "cells": [
  {
   "cell_type": "code",
   "execution_count": 1,
   "metadata": {},
   "outputs": [],
   "source": [
    "import numpy as np\n",
    "import pandas as pd"
   ]
  },
  {
   "cell_type": "code",
   "execution_count": 23,
   "metadata": {},
   "outputs": [],
   "source": [
    "arr = np.random.randint(0,5,(5,5))"
   ]
  },
  {
   "cell_type": "code",
   "execution_count": 24,
   "metadata": {},
   "outputs": [
    {
     "data": {
      "text/plain": [
       "array([[3, 3, 1, 3, 3],\n",
       "       [1, 0, 1, 1, 2],\n",
       "       [0, 2, 2, 0, 4],\n",
       "       [0, 0, 4, 1, 3],\n",
       "       [0, 1, 4, 3, 3]])"
      ]
     },
     "execution_count": 24,
     "metadata": {},
     "output_type": "execute_result"
    }
   ],
   "source": [
    "arr"
   ]
  },
  {
   "cell_type": "code",
   "execution_count": 25,
   "metadata": {},
   "outputs": [
    {
     "name": "stdout",
     "output_type": "stream",
     "text": [
      "[0.8 1.2 2.4 1.6 3. ]\n",
      "[1.16619038 1.16619038 1.356466   1.2        0.63245553]\n",
      "[1.36 1.36 1.84 1.44 0.4 ]\n"
     ]
    }
   ],
   "source": [
    "print(arr.mean(axis = 0))\n",
    "print(arr.std(axis = 0))\n",
    "print(arr.var(axis = 0))"
   ]
  },
  {
   "cell_type": "code",
   "execution_count": 28,
   "metadata": {},
   "outputs": [],
   "source": [
    "b = [56, 48, 22, 41, 78, 91, 24, 46, 8, 33]"
   ]
  },
  {
   "cell_type": "code",
   "execution_count": 42,
   "metadata": {},
   "outputs": [
    {
     "name": "stdout",
     "output_type": "stream",
     "text": [
      "[8 2 6 9 3 7 1 0 4 5]\n",
      "int32\n",
      "(10,)\n",
      "<class 'numpy.ndarray'>\n",
      "[[56 48 22 41 78]\n",
      " [91 24 46  8 33]]\n"
     ]
    }
   ],
   "source": [
    "b = np.array(b)\n",
    "print(b.argsort())\n",
    "print(b.dtype)\n",
    "print(b.shape)\n",
    "print(type(b))\n",
    "print(b.reshape(int(input(\"Enter the rows\")), int(input(\"Enter the columns\"))))"
   ]
  },
  {
   "cell_type": "code",
   "execution_count": 132,
   "metadata": {},
   "outputs": [
    {
     "data": {
      "text/plain": [
       "array([[ 3., nan,  7.,  1.,  6.],\n",
       "       [ 3.,  7.,  0.,  1.,  5.],\n",
       "       [ 4.,  6., nan,  1.,  9.],\n",
       "       [ 7.,  4.,  9.,  6.,  4.],\n",
       "       [ 5., nan,  9.,  8.,  1.]])"
      ]
     },
     "execution_count": 132,
     "metadata": {},
     "output_type": "execute_result"
    }
   ],
   "source": [
    "arr = np.random.randint(0, 10, (5, 5))\n",
    "arr = arr.astype(\"float\")\n",
    "arr = arr.flatten()\n",
    "arr[np.random.choice(arr.size,3 ,False)] = np.nan\n",
    "arr = arr.reshape(5,5)\n",
    "arr"
   ]
  },
  {
   "cell_type": "code",
   "execution_count": 143,
   "metadata": {},
   "outputs": [],
   "source": [
    "zero = np.argwhere( arr == 0)\n",
    "non_zero = np.argwhere( arr != 0)\n",
    "nan = np.argwhere(np.isnan(arr)) "
   ]
  },
  {
   "cell_type": "code",
   "execution_count": null,
   "metadata": {},
   "outputs": [],
   "source": []
  },
  {
   "cell_type": "code",
   "execution_count": null,
   "metadata": {},
   "outputs": [],
   "source": []
  },
  {
   "cell_type": "code",
   "execution_count": null,
   "metadata": {},
   "outputs": [],
   "source": []
  },
  {
   "cell_type": "code",
   "execution_count": null,
   "metadata": {},
   "outputs": [],
   "source": []
  },
  {
   "cell_type": "code",
   "execution_count": null,
   "metadata": {},
   "outputs": [],
   "source": []
  },
  {
   "cell_type": "code",
   "execution_count": null,
   "metadata": {},
   "outputs": [],
   "source": []
  },
  {
   "cell_type": "code",
   "execution_count": null,
   "metadata": {},
   "outputs": [],
   "source": []
  },
  {
   "cell_type": "code",
   "execution_count": null,
   "metadata": {},
   "outputs": [],
   "source": []
  },
  {
   "cell_type": "code",
   "execution_count": null,
   "metadata": {},
   "outputs": [],
   "source": []
  }
 ],
 "metadata": {
  "kernelspec": {
   "display_name": "Python 3",
   "language": "python",
   "name": "python3"
  },
  "language_info": {
   "codemirror_mode": {
    "name": "ipython",
    "version": 3
   },
   "file_extension": ".py",
   "mimetype": "text/x-python",
   "name": "python",
   "nbconvert_exporter": "python",
   "pygments_lexer": "ipython3",
   "version": "3.12.1"
  }
 },
 "nbformat": 4,
 "nbformat_minor": 2
}
