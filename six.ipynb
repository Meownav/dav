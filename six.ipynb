{
 "cells": [
  {
   "cell_type": "code",
   "execution_count": 117,
   "metadata": {},
   "outputs": [],
   "source": [
    "import numpy as np\n",
    "import pandas as pd"
   ]
  },
  {
   "cell_type": "code",
   "execution_count": 118,
   "metadata": {},
   "outputs": [],
   "source": [
    "df = pd.read_csv(\"./weatherHistory.csv\")"
   ]
  },
  {
   "cell_type": "code",
   "execution_count": 119,
   "metadata": {},
   "outputs": [
    {
     "data": {
      "text/html": [
       "<div>\n",
       "<style scoped>\n",
       "    .dataframe tbody tr th:only-of-type {\n",
       "        vertical-align: middle;\n",
       "    }\n",
       "\n",
       "    .dataframe tbody tr th {\n",
       "        vertical-align: top;\n",
       "    }\n",
       "\n",
       "    .dataframe thead th {\n",
       "        text-align: right;\n",
       "    }\n",
       "</style>\n",
       "<table border=\"1\" class=\"dataframe\">\n",
       "  <thead>\n",
       "    <tr style=\"text-align: right;\">\n",
       "      <th></th>\n",
       "      <th>Temperature (C)</th>\n",
       "      <th>Apparent Temperature (C)</th>\n",
       "      <th>Humidity</th>\n",
       "      <th>Wind Speed (km/h)</th>\n",
       "      <th>Wind Bearing (degrees)</th>\n",
       "      <th>Visibility (km)</th>\n",
       "      <th>Loud Cover</th>\n",
       "      <th>Pressure (millibars)</th>\n",
       "    </tr>\n",
       "    <tr>\n",
       "      <th>Precip Type</th>\n",
       "      <th></th>\n",
       "      <th></th>\n",
       "      <th></th>\n",
       "      <th></th>\n",
       "      <th></th>\n",
       "      <th></th>\n",
       "      <th></th>\n",
       "      <th></th>\n",
       "    </tr>\n",
       "  </thead>\n",
       "  <tbody>\n",
       "    <tr>\n",
       "      <th>rain</th>\n",
       "      <td>13.852989</td>\n",
       "      <td>13.013425</td>\n",
       "      <td>0.718699</td>\n",
       "      <td>10.971219</td>\n",
       "      <td>189.123170</td>\n",
       "      <td>10.830711</td>\n",
       "      <td>0.0</td>\n",
       "      <td>1002.764548</td>\n",
       "    </tr>\n",
       "    <tr>\n",
       "      <th>snow</th>\n",
       "      <td>-3.270885</td>\n",
       "      <td>-6.249847</td>\n",
       "      <td>0.863263</td>\n",
       "      <td>9.481998</td>\n",
       "      <td>174.754294</td>\n",
       "      <td>6.636570</td>\n",
       "      <td>0.0</td>\n",
       "      <td>1006.216970</td>\n",
       "    </tr>\n",
       "  </tbody>\n",
       "</table>\n",
       "</div>"
      ],
      "text/plain": [
       "             Temperature (C)  Apparent Temperature (C)  Humidity  \\\n",
       "Precip Type                                                        \n",
       "rain               13.852989                 13.013425  0.718699   \n",
       "snow               -3.270885                 -6.249847  0.863263   \n",
       "\n",
       "             Wind Speed (km/h)  Wind Bearing (degrees)  Visibility (km)  \\\n",
       "Precip Type                                                               \n",
       "rain                 10.971219              189.123170        10.830711   \n",
       "snow                  9.481998              174.754294         6.636570   \n",
       "\n",
       "             Loud Cover  Pressure (millibars)  \n",
       "Precip Type                                    \n",
       "rain                0.0           1002.764548  \n",
       "snow                0.0           1006.216970  "
      ]
     },
     "execution_count": 119,
     "metadata": {},
     "output_type": "execute_result"
    }
   ],
   "source": [
    "df.groupby(\"Precip Type\").mean(\"Temperature (C)\")"
   ]
  },
  {
   "cell_type": "code",
   "execution_count": 120,
   "metadata": {},
   "outputs": [],
   "source": [
    "df[\"Formatted Date\"] = pd.to_datetime(df[\"Formatted Date\"], utc = True)"
   ]
  },
  {
   "cell_type": "code",
   "execution_count": 121,
   "metadata": {},
   "outputs": [],
   "source": [
    "df.drop_duplicates(\"Formatted Date\", keep = \"first\", inplace= True)"
   ]
  },
  {
   "cell_type": "code",
   "execution_count": 122,
   "metadata": {},
   "outputs": [],
   "source": [
    "df.index = df[\"Formatted Date\"]"
   ]
  },
  {
   "cell_type": "code",
   "execution_count": 123,
   "metadata": {},
   "outputs": [],
   "source": [
    "df.asfreq(\"30T\").ffill(inplace=True)"
   ]
  },
  {
   "cell_type": "code",
   "execution_count": 181,
   "metadata": {},
   "outputs": [],
   "source": [
    "df[\"Date\"] = pd.to_datetime(df[\"Formatted Date\"]).dt.strftime(\"%Y-%m\")"
   ]
  },
  {
   "cell_type": "code",
   "execution_count": 194,
   "metadata": {},
   "outputs": [
    {
     "data": {
      "text/plain": [
       "Summary                              Precip Type\n",
       "Breezy                               rain           0.620000\n",
       "                                     snow           0.700000\n",
       "Breezy and Dry                       rain           0.260000\n",
       "Breezy and Foggy                     snow           0.934815\n",
       "                                     rain           0.951250\n",
       "Breezy and Mostly Cloudy             rain           0.632082\n",
       "                                     snow           0.730769\n",
       "Breezy and Overcast                  rain           0.762331\n",
       "                                     snow           0.770000\n",
       "Breezy and Partly Cloudy             rain           0.543984\n",
       "                                     snow           0.644286\n",
       "Clear                                rain           0.714937\n",
       "                                     snow           0.824339\n",
       "Dangerously Windy and Partly Cloudy  rain           0.490000\n",
       "Drizzle                              rain           0.867949\n",
       "Dry                                  rain           0.230294\n",
       "Dry and Mostly Cloudy                rain           0.242143\n",
       "Dry and Partly Cloudy                rain           0.240814\n",
       "Foggy                                snow           0.940355\n",
       "                                     rain           0.958532\n",
       "Humid and Mostly Cloudy              rain           0.874250\n",
       "Humid and Overcast                   rain           0.881429\n",
       "Humid and Partly Cloudy              rain           0.848824\n",
       "Light Rain                           rain           0.888095\n",
       "Mostly Cloudy                        rain           0.717895\n",
       "                                     snow           0.825445\n",
       "Overcast                             rain           0.834205\n",
       "                                     snow           0.855831\n",
       "Partly Cloudy                        rain           0.638544\n",
       "                                     snow           0.819831\n",
       "Rain                                 rain           0.947000\n",
       "Windy                                rain           0.572500\n",
       "Windy and Dry                        rain           0.240000\n",
       "Windy and Foggy                      rain           0.883333\n",
       "                                     snow           0.950000\n",
       "Windy and Mostly Cloudy              rain           0.600000\n",
       "Windy and Overcast                   rain           0.702857\n",
       "                                     snow           0.790000\n",
       "Windy and Partly Cloudy              rain           0.528806\n",
       "Name: Humidity, dtype: float64"
      ]
     },
     "execution_count": 194,
     "metadata": {},
     "output_type": "execute_result"
    }
   ],
   "source": [
    "p = df.groupby([\"Summary\", \"Precip Type\"]).agg({\"Humidity\": \"mean\"})\n",
    "p[\"Humidity\"].groupby(level=0, group_keys=False).nsmallest()\n"
   ]
  },
  {
   "cell_type": "code",
   "execution_count": 197,
   "metadata": {},
   "outputs": [
    {
     "data": {
      "text/plain": [
       "Formatted Date\n",
       "2006-03-31 22:00:00+00:00    (2.869, 15.214]\n",
       "2006-03-31 23:00:00+00:00    (2.869, 15.214]\n",
       "2006-04-01 00:00:00+00:00    (2.869, 15.214]\n",
       "2006-04-01 01:00:00+00:00    (2.869, 15.214]\n",
       "2006-04-01 02:00:00+00:00    (2.869, 15.214]\n",
       "                                  ...       \n",
       "2016-09-09 17:00:00+00:00    (15.214, 27.56]\n",
       "2016-09-09 18:00:00+00:00    (15.214, 27.56]\n",
       "2016-09-09 19:00:00+00:00    (15.214, 27.56]\n",
       "2016-09-09 20:00:00+00:00    (15.214, 27.56]\n",
       "2016-09-09 21:00:00+00:00    (15.214, 27.56]\n",
       "Name: Temperature (C), Length: 96429, dtype: category\n",
       "Categories (5, interval[float64, right]): [(-21.884, -9.477] < (-9.477, 2.869] < (2.869, 15.214] < (15.214, 27.56] < (27.56, 39.906]]"
      ]
     },
     "execution_count": 197,
     "metadata": {},
     "output_type": "execute_result"
    }
   ],
   "source": [
    "pd.cut(df[\"Temperature (C)\"],5)"
   ]
  },
  {
   "cell_type": "code",
   "execution_count": 214,
   "metadata": {},
   "outputs": [
    {
     "data": {
      "text/html": [
       "<div>\n",
       "<style scoped>\n",
       "    .dataframe tbody tr th:only-of-type {\n",
       "        vertical-align: middle;\n",
       "    }\n",
       "\n",
       "    .dataframe tbody tr th {\n",
       "        vertical-align: top;\n",
       "    }\n",
       "\n",
       "    .dataframe thead th {\n",
       "        text-align: right;\n",
       "    }\n",
       "</style>\n",
       "<table border=\"1\" class=\"dataframe\">\n",
       "  <thead>\n",
       "    <tr style=\"text-align: right;\">\n",
       "      <th>Temperature (C)</th>\n",
       "      <th>(-21.884, -9.477]</th>\n",
       "      <th>(-9.477, 2.869]</th>\n",
       "      <th>(2.869, 15.214]</th>\n",
       "      <th>(15.214, 27.56]</th>\n",
       "      <th>(27.56, 39.906]</th>\n",
       "    </tr>\n",
       "    <tr>\n",
       "      <th>Temperature (C)</th>\n",
       "      <th></th>\n",
       "      <th></th>\n",
       "      <th></th>\n",
       "      <th></th>\n",
       "      <th></th>\n",
       "    </tr>\n",
       "  </thead>\n",
       "  <tbody>\n",
       "    <tr>\n",
       "      <th>-21.822222</th>\n",
       "      <td>1</td>\n",
       "      <td>0</td>\n",
       "      <td>0</td>\n",
       "      <td>0</td>\n",
       "      <td>0</td>\n",
       "    </tr>\n",
       "    <tr>\n",
       "      <th>-21.111111</th>\n",
       "      <td>3</td>\n",
       "      <td>0</td>\n",
       "      <td>0</td>\n",
       "      <td>0</td>\n",
       "      <td>0</td>\n",
       "    </tr>\n",
       "    <tr>\n",
       "      <th>-20.783333</th>\n",
       "      <td>1</td>\n",
       "      <td>0</td>\n",
       "      <td>0</td>\n",
       "      <td>0</td>\n",
       "      <td>0</td>\n",
       "    </tr>\n",
       "    <tr>\n",
       "      <th>-20.555556</th>\n",
       "      <td>2</td>\n",
       "      <td>0</td>\n",
       "      <td>0</td>\n",
       "      <td>0</td>\n",
       "      <td>0</td>\n",
       "    </tr>\n",
       "    <tr>\n",
       "      <th>-20.277778</th>\n",
       "      <td>1</td>\n",
       "      <td>0</td>\n",
       "      <td>0</td>\n",
       "      <td>0</td>\n",
       "      <td>0</td>\n",
       "    </tr>\n",
       "    <tr>\n",
       "      <th>...</th>\n",
       "      <td>...</td>\n",
       "      <td>...</td>\n",
       "      <td>...</td>\n",
       "      <td>...</td>\n",
       "      <td>...</td>\n",
       "    </tr>\n",
       "    <tr>\n",
       "      <th>38.861111</th>\n",
       "      <td>0</td>\n",
       "      <td>0</td>\n",
       "      <td>0</td>\n",
       "      <td>0</td>\n",
       "      <td>1</td>\n",
       "    </tr>\n",
       "    <tr>\n",
       "      <th>38.866667</th>\n",
       "      <td>0</td>\n",
       "      <td>0</td>\n",
       "      <td>0</td>\n",
       "      <td>0</td>\n",
       "      <td>1</td>\n",
       "    </tr>\n",
       "    <tr>\n",
       "      <th>38.983333</th>\n",
       "      <td>0</td>\n",
       "      <td>0</td>\n",
       "      <td>0</td>\n",
       "      <td>0</td>\n",
       "      <td>3</td>\n",
       "    </tr>\n",
       "    <tr>\n",
       "      <th>39.588889</th>\n",
       "      <td>0</td>\n",
       "      <td>0</td>\n",
       "      <td>0</td>\n",
       "      <td>0</td>\n",
       "      <td>1</td>\n",
       "    </tr>\n",
       "    <tr>\n",
       "      <th>39.905556</th>\n",
       "      <td>0</td>\n",
       "      <td>0</td>\n",
       "      <td>0</td>\n",
       "      <td>0</td>\n",
       "      <td>1</td>\n",
       "    </tr>\n",
       "  </tbody>\n",
       "</table>\n",
       "<p>7574 rows × 5 columns</p>\n",
       "</div>"
      ],
      "text/plain": [
       "Temperature (C)  (-21.884, -9.477]  (-9.477, 2.869]  (2.869, 15.214]  \\\n",
       "Temperature (C)                                                        \n",
       "-21.822222                       1                0                0   \n",
       "-21.111111                       3                0                0   \n",
       "-20.783333                       1                0                0   \n",
       "-20.555556                       2                0                0   \n",
       "-20.277778                       1                0                0   \n",
       "...                            ...              ...              ...   \n",
       " 38.861111                       0                0                0   \n",
       " 38.866667                       0                0                0   \n",
       " 38.983333                       0                0                0   \n",
       " 39.588889                       0                0                0   \n",
       " 39.905556                       0                0                0   \n",
       "\n",
       "Temperature (C)  (15.214, 27.56]  (27.56, 39.906]  \n",
       "Temperature (C)                                    \n",
       "-21.822222                     0                0  \n",
       "-21.111111                     0                0  \n",
       "-20.783333                     0                0  \n",
       "-20.555556                     0                0  \n",
       "-20.277778                     0                0  \n",
       "...                          ...              ...  \n",
       " 38.861111                     0                1  \n",
       " 38.866667                     0                1  \n",
       " 38.983333                     0                3  \n",
       " 39.588889                     0                1  \n",
       " 39.905556                     0                1  \n",
       "\n",
       "[7574 rows x 5 columns]"
      ]
     },
     "execution_count": 214,
     "metadata": {},
     "output_type": "execute_result"
    }
   ],
   "source": [
    "df.groupby([\"Humidity\", pd.cut(df[\"Temperature (C)\"], 5)]).size().unstack()"
   ]
  },
  {
   "cell_type": "code",
   "execution_count": 212,
   "metadata": {},
   "outputs": [
    {
     "data": {
      "text/plain": [
       "Temperature (C)\n",
       "-21.822222    1\n",
       "-21.111111    3\n",
       "-20.783333    1\n",
       "-20.555556    2\n",
       "-20.277778    1\n",
       "             ..\n",
       " 38.861111    1\n",
       " 38.866667    1\n",
       " 38.983333    3\n",
       " 39.588889    1\n",
       " 39.905556    1\n",
       "Length: 7574, dtype: int64"
      ]
     },
     "execution_count": 212,
     "metadata": {},
     "output_type": "execute_result"
    }
   ],
   "source": [
    "df.groupby(\"Temperature (C)\").size()"
   ]
  },
  {
   "cell_type": "code",
   "execution_count": null,
   "metadata": {},
   "outputs": [],
   "source": []
  }
 ],
 "metadata": {
  "kernelspec": {
   "display_name": "Python 3",
   "language": "python",
   "name": "python3"
  },
  "language_info": {
   "codemirror_mode": {
    "name": "ipython",
    "version": 3
   },
   "file_extension": ".py",
   "mimetype": "text/x-python",
   "name": "python",
   "nbconvert_exporter": "python",
   "pygments_lexer": "ipython3",
   "version": "3.10.0"
  }
 },
 "nbformat": 4,
 "nbformat_minor": 2
}
