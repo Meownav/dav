{
 "cells": [
  {
   "cell_type": "markdown",
   "metadata": {},
   "source": [
    "{'Boys': [72, 68, 70, 69, 74],\n",
    " 'Girls': [63, 65, 69, 62, 61]}\n",
    "\n",
    "[{'Boys': 72, 'Girls': 63}, {'Boys': 68, 'Girls': 65}, {'Boys': 70, 'Girls': 69}, {'Boys': 69, 'Girls': 62},\n",
    "{'Boys': 74, 'Girls': 61}]"
   ]
  },
  {
   "cell_type": "code",
   "execution_count": 3,
   "metadata": {},
   "outputs": [],
   "source": [
    "data = {\n",
    "    'Boys': [72, 68, 70, 69, 74],\n",
    "    'Girls': [63, 65, 69, 62, 61]\n",
    "}"
   ]
  },
  {
   "cell_type": "code",
   "execution_count": 14,
   "metadata": {},
   "outputs": [],
   "source": [
    "from  itertools import zip_longest"
   ]
  },
  {
   "cell_type": "code",
   "execution_count": 16,
   "metadata": {},
   "outputs": [],
   "source": [
    "data_new = [ {\"Boys\":x[0], \"Girls\":x[1]} for x in zip_longest(data[\"Boys\"], data[\"Girls\"]) ]\n",
    "data_new"
   ]
  },
  {
   "cell_type": "code",
   "execution_count": null,
   "metadata": {},
   "outputs": [],
   "source": []
  }
 ],
 "metadata": {
  "kernelspec": {
   "display_name": "Python 3",
   "language": "python",
   "name": "python3"
  },
  "language_info": {
   "codemirror_mode": {
    "name": "ipython",
    "version": 3
   },
   "file_extension": ".py",
   "mimetype": "text/x-python",
   "name": "python",
   "nbconvert_exporter": "python",
   "pygments_lexer": "ipython3",
   "version": "3.12.1"
  }
 },
 "nbformat": 4,
 "nbformat_minor": 2
}
